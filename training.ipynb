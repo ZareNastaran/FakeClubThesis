{
 "cells": [
  {
   "cell_type": "code",
   "execution_count": null,
   "metadata": {},
   "outputs": [],
   "source": [
    "pip install pandas pyarrow matplotlib scikit-learn torch torch-geometric pyarrow fastparquet"
   ]
  },
  {
   "cell_type": "code",
   "execution_count": 1,
   "metadata": {},
   "outputs": [],
   "source": [
    "import torch\n",
    "import torch.nn.functional as F\n",
    "from torch_geometric.nn import GCNConv\n",
    "from torch_geometric.data import Data, DataLoader\n",
    "import pandas as pd\n",
    "from sklearn.model_selection import train_test_split\n",
    "from sklearn.metrics import mean_absolute_error, mean_squared_error, precision_score, recall_score, f1_score\n",
    "from tqdm import tqdm\n",
    "import matplotlib.pyplot as plt\n"
   ]
  },
  {
   "cell_type": "code",
   "execution_count": 20,
   "metadata": {},
   "outputs": [
    {
     "name": "stdout",
     "output_type": "stream",
     "text": [
      "Allocated memory: 0.00 MB\n",
      "Reserved memory: 0.00 MB\n",
      "Free memory: 0.00 MB\n"
     ]
    }
   ],
   "source": [
    "if torch.cuda.is_available():\n",
    "    # Get current device\n",
    "    device = torch.cuda.current_device()\n",
    "\n",
    "    # Get allocated and reserved memory\n",
    "    allocated_memory = torch.cuda.memory_allocated(device)\n",
    "    reserved_memory = torch.cuda.memory_reserved(device)\n",
    "\n",
    "    # Compute free memory\n",
    "    free_memory = reserved_memory - allocated_memory\n",
    "\n",
    "    # Convert bytes to human-readable format (MB)\n",
    "    allocated_memory_MB = allocated_memory / 1024**2\n",
    "    reserved_memory_MB = reserved_memory / 1024**2\n",
    "    free_memory_MB = free_memory / 1024**2\n",
    "\n",
    "    # Print the memory details\n",
    "    print(\"Allocated memory: {:.2f} MB\".format(allocated_memory_MB))\n",
    "    print(\"Reserved memory: {:.2f} MB\".format(reserved_memory_MB))\n",
    "    print(\"Free memory: {:.2f} MB\".format(free_memory_MB))\n",
    "else:\n",
    "    print(\"CUDA is not available.\")\n"
   ]
  },
  {
   "cell_type": "code",
   "execution_count": 2,
   "metadata": {},
   "outputs": [],
   "source": [
    "############### GRAPH CONVOLUTIONAL NETWORK WITH DATA SPLITING  #############\n",
    "'''\n",
    "Data Preparation: Transform the data into a Data object, which is an inherent data type in PyG to represent a graph.\n",
    "Model Definition: Define the GNN model.\n",
    "Training and Evaluation: Train the GNN model and evaluate it.\n",
    "'''\n",
    "\n",
    "reviews_df = pd.read_parquet(\"dataset/yelp_dataset_ver2_small.parquet\")\n",
    "\n",
    "# 1. Data Preparation\n",
    "\n",
    "# Create a list of user nodes and business nodes. We'll treat users as type 0 and businesses as type 1.\n",
    "nodes = pd.concat([reviews_df['user_id'], reviews_df['business_id']]).unique()\n",
    "node2idx = {node: i for i, node in enumerate(nodes)}\n",
    "\n",
    "def prepare_data(df):\n",
    "    edge_index = torch.tensor([[node2idx[src] for src in df['user_id']],\n",
    "                               [node2idx[tgt] for tgt in df['business_id']]], dtype=torch.long)\n",
    "\n",
    "    x = torch.tensor([1 if i < len(df['user_id'].unique()) else 0 for i in range(len(nodes))], dtype=torch.float).view(-1, 1)\n",
    "    edge_attr = torch.tensor(df[['stars', 'review_useful', 'review_funny', 'review_cool']].values, dtype=torch.float)\n",
    "    y = torch.tensor(df['stars'].values, dtype=torch.float)\n",
    "    data = Data(x=x, edge_index=edge_index, edge_attr=edge_attr, y=y)\n",
    "    return data\n",
    "\n",
    "# 3. Data Splitting\n",
    "train_df, test_df = train_test_split(reviews_df, test_size=0.2, random_state=42)\n",
    "\n",
    "train_data = prepare_data(train_df).to(torch.device('cuda' if torch.cuda.is_available() else 'cpu'))\n",
    "test_data = prepare_data(test_df).to(torch.device('cuda' if torch.cuda.is_available() else 'cpu'))\n"
   ]
  },
  {
   "cell_type": "code",
   "execution_count": 3,
   "metadata": {},
   "outputs": [
    {
     "name": "stderr",
     "output_type": "stream",
     "text": [
      " 10%|▉         | 19/200 [00:00<00:03, 46.08it/s]"
     ]
    },
    {
     "name": "stdout",
     "output_type": "stream",
     "text": [
      "Epoch: 10, Loss: 15.9579\n"
     ]
    },
    {
     "name": "stderr",
     "output_type": "stream",
     "text": [
      " 14%|█▍        | 29/200 [00:00<00:03, 46.49it/s]"
     ]
    },
    {
     "name": "stdout",
     "output_type": "stream",
     "text": [
      "Epoch: 20, Loss: 7.7956\n"
     ]
    },
    {
     "name": "stderr",
     "output_type": "stream",
     "text": [
      " 20%|█▉        | 39/200 [00:00<00:03, 46.67it/s]"
     ]
    },
    {
     "name": "stdout",
     "output_type": "stream",
     "text": [
      "Epoch: 30, Loss: 4.4161\n"
     ]
    },
    {
     "name": "stderr",
     "output_type": "stream",
     "text": [
      " 24%|██▍       | 49/200 [00:01<00:03, 47.70it/s]"
     ]
    },
    {
     "name": "stdout",
     "output_type": "stream",
     "text": [
      "Epoch: 40, Loss: 3.7017\n"
     ]
    },
    {
     "name": "stderr",
     "output_type": "stream",
     "text": [
      " 30%|██▉       | 59/200 [00:01<00:02, 47.30it/s]"
     ]
    },
    {
     "name": "stdout",
     "output_type": "stream",
     "text": [
      "Epoch: 50, Loss: 2.9212\n"
     ]
    },
    {
     "name": "stderr",
     "output_type": "stream",
     "text": [
      " 34%|███▍      | 69/200 [00:01<00:02, 46.81it/s]"
     ]
    },
    {
     "name": "stdout",
     "output_type": "stream",
     "text": [
      "Epoch: 60, Loss: 2.4652\n"
     ]
    },
    {
     "name": "stderr",
     "output_type": "stream",
     "text": [
      " 40%|███▉      | 79/200 [00:01<00:02, 45.94it/s]"
     ]
    },
    {
     "name": "stdout",
     "output_type": "stream",
     "text": [
      "Epoch: 70, Loss: 2.1099\n"
     ]
    },
    {
     "name": "stderr",
     "output_type": "stream",
     "text": [
      " 44%|████▍     | 89/200 [00:01<00:02, 46.41it/s]"
     ]
    },
    {
     "name": "stdout",
     "output_type": "stream",
     "text": [
      "Epoch: 80, Loss: 1.8437\n"
     ]
    },
    {
     "name": "stderr",
     "output_type": "stream",
     "text": [
      " 50%|████▉     | 99/200 [00:02<00:02, 46.88it/s]"
     ]
    },
    {
     "name": "stdout",
     "output_type": "stream",
     "text": [
      "Epoch: 90, Loss: 1.5647\n"
     ]
    },
    {
     "name": "stderr",
     "output_type": "stream",
     "text": [
      " 55%|█████▍    | 109/200 [00:02<00:01, 47.14it/s]"
     ]
    },
    {
     "name": "stdout",
     "output_type": "stream",
     "text": [
      "Epoch: 100, Loss: 1.3751\n"
     ]
    },
    {
     "name": "stderr",
     "output_type": "stream",
     "text": [
      " 60%|█████▉    | 119/200 [00:02<00:01, 47.26it/s]"
     ]
    },
    {
     "name": "stdout",
     "output_type": "stream",
     "text": [
      "Epoch: 110, Loss: 1.2002\n"
     ]
    },
    {
     "name": "stderr",
     "output_type": "stream",
     "text": [
      " 64%|██████▍   | 129/200 [00:02<00:01, 46.97it/s]"
     ]
    },
    {
     "name": "stdout",
     "output_type": "stream",
     "text": [
      "Epoch: 120, Loss: 1.0254\n"
     ]
    },
    {
     "name": "stderr",
     "output_type": "stream",
     "text": [
      " 70%|██████▉   | 139/200 [00:02<00:01, 46.87it/s]"
     ]
    },
    {
     "name": "stdout",
     "output_type": "stream",
     "text": [
      "Epoch: 130, Loss: 0.9000\n"
     ]
    },
    {
     "name": "stderr",
     "output_type": "stream",
     "text": [
      " 74%|███████▍  | 149/200 [00:03<00:01, 47.05it/s]"
     ]
    },
    {
     "name": "stdout",
     "output_type": "stream",
     "text": [
      "Epoch: 140, Loss: 0.7810\n"
     ]
    },
    {
     "name": "stderr",
     "output_type": "stream",
     "text": [
      " 77%|███████▋  | 154/200 [00:03<00:01, 44.93it/s]"
     ]
    },
    {
     "name": "stdout",
     "output_type": "stream",
     "text": [
      "Epoch: 150, Loss: 0.6821\n"
     ]
    },
    {
     "name": "stderr",
     "output_type": "stream",
     "text": [
      " 84%|████████▍ | 169/200 [00:03<00:00, 45.87it/s]"
     ]
    },
    {
     "name": "stdout",
     "output_type": "stream",
     "text": [
      "Epoch: 160, Loss: 0.6024\n"
     ]
    },
    {
     "name": "stderr",
     "output_type": "stream",
     "text": [
      " 90%|████████▉ | 179/200 [00:03<00:00, 46.58it/s]"
     ]
    },
    {
     "name": "stdout",
     "output_type": "stream",
     "text": [
      "Epoch: 170, Loss: 0.5227\n"
     ]
    },
    {
     "name": "stderr",
     "output_type": "stream",
     "text": [
      " 94%|█████████▍| 189/200 [00:04<00:00, 47.22it/s]"
     ]
    },
    {
     "name": "stdout",
     "output_type": "stream",
     "text": [
      "Epoch: 180, Loss: 0.4537\n"
     ]
    },
    {
     "name": "stderr",
     "output_type": "stream",
     "text": [
      "100%|█████████▉| 199/200 [00:04<00:00, 47.02it/s]"
     ]
    },
    {
     "name": "stdout",
     "output_type": "stream",
     "text": [
      "Epoch: 190, Loss: 0.4031\n"
     ]
    },
    {
     "name": "stderr",
     "output_type": "stream",
     "text": [
      "100%|██████████| 200/200 [00:04<00:00, 46.50it/s]\n"
     ]
    },
    {
     "name": "stdout",
     "output_type": "stream",
     "text": [
      "Epoch: 200, Loss: 0.3591\n"
     ]
    },
    {
     "data": {
      "image/png": "[encoded data removed]",
      "text/plain": [
       "<Figure size 640x480 with 1 Axes>"
      ]
     },
     "metadata": {},
     "output_type": "display_data"
    }
   ],
   "source": [
    "# 4. Model Definition\n",
    "class GCN(torch.nn.Module):\n",
    "    def __init__(self):\n",
    "        super(GCN, self).__init__()\n",
    "        self.conv1 = GCNConv(1, 16)\n",
    "        self.conv2 = GCNConv(16, 1)\n",
    "        self.prediction_layer = torch.nn.Linear(6, 1)\n",
    "\n",
    "    def forward(self, data):\n",
    "        x, edge_index, edge_attr = data.x, data.edge_index, data.edge_attr\n",
    "        x = self.conv1(x, edge_index)\n",
    "        x = F.relu(x)\n",
    "        x = F.dropout(x, training=self.training)\n",
    "        x = self.conv2(x, edge_index)\n",
    "        src_embed = x[edge_index[0]]\n",
    "        tgt_embed = x[edge_index[1]]\n",
    "        edge_embeddings = torch.cat([src_embed, tgt_embed, edge_attr], dim=1)\n",
    "        out = self.prediction_layer(edge_embeddings)\n",
    "        return out.view(-1)\n",
    "\n",
    "# 5. Training and Evaluation\n",
    "device = torch.device('cuda' if torch.cuda.is_available() else 'cpu')\n",
    "model = GCN().to(device)\n",
    "optimizer = torch.optim.Adam(model.parameters(), lr=0.01)\n",
    "\n",
    "# Training\n",
    "loss_values = []\n",
    "model.train()\n",
    "for epoch in tqdm(range(200)):\n",
    "    optimizer.zero_grad()\n",
    "    out = model(train_data)\n",
    "    loss = F.mse_loss(out, train_data.y)\n",
    "    loss.backward()\n",
    "    optimizer.step()\n",
    "    loss_values.append(loss.item())\n",
    "    if (epoch + 1) % 10 == 0:\n",
    "        print(f\"Epoch: {epoch+1}, Loss: {loss.item():.4f}\")\n",
    "\n",
    "# Plot the loss values\n",
    "plt.plot(loss_values)\n",
    "plt.xlabel('Epoch')\n",
    "plt.ylabel('MSE Loss')\n",
    "plt.title('Loss over time')\n",
    "plt.grid(True)\n",
    "plt.show()"
   ]
  },
  {
   "cell_type": "code",
   "execution_count": 11,
   "metadata": {},
   "outputs": [
    {
     "name": "stdout",
     "output_type": "stream",
     "text": [
      "Test Loss: 0.4319, Precision (for y=3): 0.3333\n"
     ]
    }
   ],
   "source": [
    "# # Evaluation\n",
    "# model.eval()\n",
    "# with torch.no_grad():\n",
    "#     predictions = model(test_data)\n",
    "#     loss = F.mse_loss(predictions, test_data.y)\n",
    "\n",
    "#     # Rounding the predictions and targets to convert continuous values into discrete values.\n",
    "#     rounded_preds = torch.round(predictions).int().cpu().numpy()\n",
    "#     rounded_targets = test_data.y.int().cpu().numpy()\n",
    "\n",
    "#     precision = precision_score(rounded_targets, rounded_preds, average='macro')\n",
    "#     recall = recall_score(rounded_targets, rounded_preds, average='macro')\n",
    "#     f1 = f1_score(rounded_targets, rounded_preds, average='macro')\n",
    "#     print(f\"Test Loss: {loss.item():.4f}, Precision: {precision:.4f}, Recall: {recall:.4f}, F1 Score: {f1:.4f}\")\n",
    "\n",
    "model.eval()\n",
    "with torch.no_grad():\n",
    "    predictions = model(test_data)\n",
    "    loss = F.mse_loss(predictions, test_data.y)\n",
    "\n",
    "    # Rounding the predictions and targets to convert continuous values into discrete values.\n",
    "    rounded_preds = torch.round(predictions).int().cpu().numpy()\n",
    "    rounded_targets = test_data.y.int().cpu().numpy()\n",
    "\n",
    "    # Create a mask for entries where test_data.y = 3.\n",
    "    mask = (rounded_targets == 3)\n",
    "\n",
    "    # Filter predictions and targets using the mask\n",
    "    filtered_preds = rounded_preds[mask]\n",
    "    filtered_targets = rounded_targets[mask]\n",
    "\n",
    "    # Now, compute precision for these filtered values.\n",
    "    precision = precision_score(filtered_targets, filtered_preds, average='macro')\n",
    "    \n",
    "    # If you want to compute recall and F1 for these values as well, you can do so. \n",
    "    # But in this example, I'll skip them for simplicity.\n",
    "\n",
    "    print(f\"Test Loss: {loss.item():.4f}, Precision (for y=3): {precision:.4f}\")\n",
    "\n",
    "\n"
   ]
  },
  {
   "cell_type": "code",
   "execution_count": 6,
   "metadata": {},
   "outputs": [
    {
     "name": "stdout",
     "output_type": "stream",
     "text": [
      "tensor([3.0205, 2.0391, 4.3617, 3.5146, 1.6253])\n",
      "tensor([3., 1., 5., 4., 1.])\n"
     ]
    }
   ],
   "source": [
    "print(predictions[:5])\n",
    "print(test_data.y[:5])"
   ]
  },
  {
   "cell_type": "code",
   "execution_count": null,
   "metadata": {},
   "outputs": [],
   "source": [
    "#################### WITHOUT SPLITING #####################\n",
    "\n",
    "nodes = pd.concat([reviews_df['user_id'], reviews_df['business_id']]).unique()\n",
    "node2idx = {node: i for i, node in enumerate(nodes)}\n",
    "\n",
    "edge_index = torch.tensor([[node2idx[src] for src in reviews_df['user_id']],\n",
    "                           [node2idx[tgt] for tgt in reviews_df['business_id']]], dtype=torch.long)\n",
    "\n",
    "x = torch.tensor([1 if i < len(reviews_df['user_id'].unique()) else 0 for i in range(len(nodes))], dtype=torch.float).view(-1, 1)  # 1 for users, 0 for businesses\n",
    "edge_attr = torch.tensor(reviews_df[['stars', 'review_useful', 'review_funny', 'review_cool']].values, dtype=torch.float)\n",
    "y = torch.tensor(reviews_df['stars'].values, dtype=torch.float)\n",
    "data = Data(x=x, edge_index=edge_index, edge_attr=edge_attr, y=y)"
   ]
  },
  {
   "cell_type": "code",
   "execution_count": 33,
   "metadata": {},
   "outputs": [
    {
     "name": "stdout",
     "output_type": "stream",
     "text": [
      "Epoch: 10, Loss: 10.8736\n",
      "Epoch: 20, Loss: 5.3910\n",
      "Epoch: 30, Loss: 4.9601\n",
      "Epoch: 40, Loss: 3.9037\n",
      "Epoch: 50, Loss: 3.2575\n",
      "Epoch: 60, Loss: 2.6842\n",
      "Epoch: 70, Loss: 2.2625\n",
      "Epoch: 80, Loss: 1.8840\n",
      "Epoch: 90, Loss: 1.5868\n",
      "Epoch: 100, Loss: 1.3543\n",
      "Epoch: 110, Loss: 1.1559\n",
      "Epoch: 120, Loss: 1.0005\n",
      "Epoch: 130, Loss: 0.8582\n",
      "Epoch: 140, Loss: 0.7461\n",
      "Epoch: 150, Loss: 0.6687\n",
      "Epoch: 160, Loss: 0.5846\n",
      "Epoch: 170, Loss: 0.5217\n",
      "Epoch: 180, Loss: 0.4650\n",
      "Epoch: 190, Loss: 0.4236\n",
      "Epoch: 200, Loss: 0.3826\n"
     ]
    },
    {
     "data": {
      "image/png": "[encoded data removed]",
      "text/plain": [
       "<Figure size 640x480 with 1 Axes>"
      ]
     },
     "metadata": {},
     "output_type": "display_data"
    },
    {
     "name": "stdout",
     "output_type": "stream",
     "text": [
      "Test Loss: 0.3412, Precision: 0.3326, Recall: 0.2552, F1 Score: 0.2191\n"
     ]
    },
    {
     "name": "stderr",
     "output_type": "stream",
     "text": [
      "/home/seankhatiri/miniconda3/lib/python3.10/site-packages/sklearn/metrics/_classification.py:1469: UndefinedMetricWarning: Recall is ill-defined and being set to 0.0 in labels with no true samples. Use `zero_division` parameter to control this behavior.\n",
      "  _warn_prf(average, modifier, msg_start, len(result))\n"
     ]
    }
   ],
   "source": [
    "class GCN(torch.nn.Module):\n",
    "    def __init__(self):\n",
    "        super(GCN, self).__init__()\n",
    "        self.conv1 = GCNConv(1, 16)\n",
    "        self.conv2 = GCNConv(16, 1)\n",
    "        self.prediction_layer = torch.nn.Linear(6, 1)\n",
    "\n",
    "    def forward(self, data):\n",
    "        x, edge_index, edge_attr = data.x, data.edge_index, data.edge_attr\n",
    "        x = self.conv1(x, edge_index)\n",
    "        x = F.relu(x)\n",
    "        x = F.dropout(x, training=self.training)\n",
    "        x = self.conv2(x, edge_index)\n",
    "        src_embed = x[edge_index[0]]\n",
    "        tgt_embed = x[edge_index[1]]\n",
    "        edge_embeddings = torch.cat([src_embed, tgt_embed, edge_attr], dim=1)\n",
    "        out = self.prediction_layer(edge_embeddings)\n",
    "        return out.view(-1)\n",
    "        \n",
    "device = torch.device('cuda' if torch.cuda.is_available() else 'cpu')\n",
    "model = GCN().to(device)\n",
    "data = data.to(device)\n",
    "optimizer = torch.optim.Adam(model.parameters(), lr=0.01)\n",
    "\n",
    "loss_values = []\n",
    "model.train()\n",
    "for epoch in range(200):\n",
    "    optimizer.zero_grad()\n",
    "    out = model(data)\n",
    "    loss = F.mse_loss(out, data.y)\n",
    "    loss.backward()\n",
    "    optimizer.step()\n",
    "    loss_values.append(loss.item())\n",
    "    if (epoch + 1) % 10 == 0:\n",
    "        print(f\"Epoch: {epoch+1}, Loss: {loss.item():.4f}\")\n",
    "\n",
    "# Plot the loss values\n",
    "plt.plot(loss_values)\n",
    "plt.xlabel('Epoch')\n",
    "plt.ylabel('MSE Loss')\n",
    "plt.title('Loss over time')\n",
    "plt.grid(True)\n",
    "plt.show()\n",
    "\n",
    "# Evaluation\n",
    "model.eval()\n",
    "with torch.no_grad():\n",
    "    predictions = model(data)\n",
    "    loss = F.mse_loss(predictions, data.y)\n",
    "\n",
    "    # Rounding the predictions and targets to convert continuous values into discrete values.\n",
    "    rounded_preds = torch.round(predictions).int().cpu().numpy()\n",
    "    rounded_targets = data.y.int().cpu().numpy()\n",
    "\n",
    "    precision = precision_score(rounded_targets, rounded_preds, average='macro')\n",
    "    recall = recall_score(rounded_targets, rounded_preds, average='macro')\n",
    "    f1 = f1_score(rounded_targets, rounded_preds, average='macro')\n",
    "    print(f\"Test Loss: {loss.item():.4f}, Precision: {precision:.4f}, Recall: {recall:.4f}, F1 Score: {f1:.4f}\")"
   ]
  }
 ],
 "metadata": {
  "kernelspec": {
   "display_name": "base",
   "language": "python",
   "name": "python3"
  },
  "language_info": {
   "codemirror_mode": {
    "name": "ipython",
    "version": 3
   },
   "file_extension": ".py",
   "mimetype": "text/x-python",
   "name": "python",
   "nbconvert_exporter": "python",
   "pygments_lexer": "ipython3",
   "version": "3.9.16"
  },
  "orig_nbformat": 4
 },
 "nbformat": 4,
 "nbformat_minor": 2
}
